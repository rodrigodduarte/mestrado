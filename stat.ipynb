{
 "cells": [
  {
   "cell_type": "code",
   "execution_count": 1,
   "metadata": {},
   "outputs": [
    {
     "name": "stderr",
     "output_type": "stream",
     "text": [
      "/home/rodrigo/miniconda3/envs/mestrado/lib/python3.12/site-packages/torch/cuda/__init__.py:654: UserWarning: Can't initialize NVML\n",
      "  warnings.warn(\"Can't initialize NVML\")\n",
      "/home/rodrigo/miniconda3/envs/mestrado/lib/python3.12/site-packages/torch/cuda/__init__.py:843: UserWarning: CUDA initialization: Unexpected error from cudaGetDeviceCount(). Did you run some cuda functions before calling NumCudaDevices() that might have already set an error? Error 804: forward compatibility was attempted on non supported HW (Triggered internally at ../c10/cuda/CUDAFunctions.cpp:108.)\n",
      "  r = torch._C._cuda_getDeviceCount() if nvml_count < 0 else nvml_count\n"
     ]
    }
   ],
   "source": [
    "import torch\n",
    "import seaborn as sns\n",
    "import matplotlib.pyplot as plt\n",
    "import pandas as pd\n",
    "import numpy as np\n",
    "import pytorch_lightning as pl\n",
    "from torchmetrics import Accuracy, Precision, Recall, F1Score, ConfusionMatrix\n",
    "from model import CustomEnsembleModel\n",
    "from kf_data import CustomImageCSVModule_kf\n"
   ]
  },
  {
   "cell_type": "code",
   "execution_count": null,
   "metadata": {},
   "outputs": [],
   "source": [
    "# Carregar hiperparâmetros\n",
    "def load_hyperparameters(file_path='config.yaml'):\n",
    "    import yaml\n",
    "    with open(file_path, 'r') as file:\n",
    "        return yaml.safe_load(file)\n",
    "\n",
    "# Carregar modelo final\n",
    "hyperparams = load_hyperparameters()\n",
    "final_model_path = f\"{hyperparams['PROJECT']}/{hyperparams['WANDB_RUN_NAME']}.ckpt\""
   ]
  },
  {
   "cell_type": "code",
   "execution_count": null,
   "metadata": {},
   "outputs": [],
   "source": [
    "print(f\"Carregando modelo final de: {final_model_path}\")\n",
    "model = CustomEnsembleModel.load_from_checkpoint(final_model_path)\n",
    "model.eval()"
   ]
  },
  {
   "cell_type": "code",
   "execution_count": null,
   "metadata": {},
   "outputs": [],
   "source": [
    "# Configurar o DataLoader de Teste\n",
    "data_module = CustomImageCSVModule_kf(\n",
    "    train_dir=hyperparams['TRAIN_DIR'],\n",
    "    test_dir=hyperparams['TEST_DIR'],\n",
    "    shape=hyperparams['SHAPE'],\n",
    "    batch_size=hyperparams['BATCH_SIZE'],\n",
    "    num_workers=hyperparams['NUM_WORKERS'],\n",
    "    n_splits=hyperparams['K_FOLDS'],\n",
    "    fold_idx=0\n",
    ")\n",
    "data_module.setup(stage='test')\n",
    "test_loader = data_module.test_dataloader()"
   ]
  },
  {
   "cell_type": "code",
   "execution_count": null,
   "metadata": {},
   "outputs": [],
   "source": [
    "# Inicializar PyTorch Lightning Trainer\n",
    "trainer = pl.Trainer(accelerator='gpu' if torch.cuda.is_available() else 'cpu')\n",
    "\n",
    "# Avaliação do modelo\n",
    "results = trainer.test(model, datamodule=data_module)"
   ]
  },
  {
   "cell_type": "code",
   "execution_count": null,
   "metadata": {},
   "outputs": [],
   "source": [
    "# Obter métricas\n",
    "accuracy = results[0]['test/accuracy']\n",
    "precision = results[0]['test/precision']\n",
    "recall = results[0]['test/recall']\n",
    "f1 = results[0]['test/f1_score']\n",
    "conf_matrix_value = results[0]['test/confusion_matrix']\n",
    "\n",
    "# Exibir resultados\n",
    "print(f\"Acurácia: {accuracy:.4f}\")\n",
    "print(f\"Precisão: {precision:.4f}\")\n",
    "print(f\"Recall: {recall:.4f}\")\n",
    "print(f\"F1-Score: {f1:.4f}\")"
   ]
  },
  {
   "cell_type": "code",
   "execution_count": null,
   "metadata": {},
   "outputs": [],
   "source": [
    "# Exibir matriz de confusão\n",
    "def plot_confusion_matrix(cm):\n",
    "    plt.figure(figsize=(10, 7))\n",
    "    sns.heatmap(cm, annot=True, fmt='d', cmap='Blues')\n",
    "    plt.xlabel('Predito')\n",
    "    plt.ylabel('Real')\n",
    "    plt.title('Matriz de Confusão')\n",
    "    plt.show()\n",
    "\n",
    "plot_confusion_matrix(conf_matrix_value)"
   ]
  }
 ],
 "metadata": {
  "kernelspec": {
   "display_name": "mestrado",
   "language": "python",
   "name": "python3"
  },
  "language_info": {
   "codemirror_mode": {
    "name": "ipython",
    "version": 3
   },
   "file_extension": ".py",
   "mimetype": "text/x-python",
   "name": "python",
   "nbconvert_exporter": "python",
   "pygments_lexer": "ipython3",
   "version": "3.12.5"
  }
 },
 "nbformat": 4,
 "nbformat_minor": 2
}
