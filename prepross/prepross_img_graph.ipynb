{
 "cells": [
  {
   "cell_type": "code",
   "execution_count": 46,
   "metadata": {},
   "outputs": [],
   "source": [
    "import cv2\n",
    "import numpy as np\n",
    "import os\n",
    "import torch\n",
    "from torch_geometric.data import Data\n",
    "import numpy as np\n",
    "from numba import jit"
   ]
  },
  {
   "cell_type": "code",
   "execution_count": 47,
   "metadata": {},
   "outputs": [],
   "source": [
    "@jit(nopython=True)\n",
    "def distancia_euclideana(x1, y1, x2, y2):\n",
    "    return np.sqrt((x2 - x1) ** 2 + (y2 - y1) ** 2)\n",
    "\n",
    "@jit(nopython=True)\n",
    "def build_graph(image, radius, L):\n",
    "    height, width, channels = image.shape\n",
    "    npa = height*width*channels\n",
    "    radius2 = radius * radius\n",
    "    # number_of_pixels = height * width * channels\n",
    "\n",
    "    valid_nodes = []\n",
    "    node_mapping = {}\n",
    "    edge_index = []\n",
    "    edge_attr = []\n",
    "\n",
    "    current_node_id = 0\n",
    "\n",
    "    for y in range(height):\n",
    "        for x in range(width):\n",
    "            if np.mean(image[y, x]) == 255.0:\n",
    "                continue\n",
    "\n",
    "            for channel_node in range(3):\n",
    "                node_id = y * width * 3 + x * 3 + channel_node\n",
    "                valid_nodes.append(image[y, x, channel_node])\n",
    "                node_mapping[node_id] = current_node_id\n",
    "                current_node_id += 1\n",
    "\n",
    "            for dy in range(-radius, radius + 1):\n",
    "                for dx in range(-radius, radius + 1):\n",
    "                    neighbor_x, neighbor_y = x + dx, y + dy\n",
    "                    if 0 <= neighbor_x < width and 0 <= neighbor_y < height and (dx != 0 or dy != 0):\n",
    "\n",
    "                        if np.mean(image[neighbor_y, neighbor_x]) == 255.0:\n",
    "                            continue\n",
    "                        \n",
    "                        dist = distancia_euclideana(x, y, neighbor_x, neighbor_y)\n",
    "                        if (dist - radius + 1) > 0 and dist <= radius:\n",
    "                            for channel_node in range(3):\n",
    "                                node_id = int(y * width * 3 + x * 3 + channel_node)\n",
    "                                for channel_neighbor in range(3):\n",
    "                                    neighbor_id = int(neighbor_y * width * 3 + neighbor_x * 3 + channel_neighbor)\n",
    "                                    if node_id in node_mapping and neighbor_id in node_mapping:\n",
    "                                        if image[y, x, channel_node] > image[neighbor_y, neighbor_x, channel_neighbor]:\n",
    "                                            diff = image[y, x, channel_node] - image[neighbor_y, neighbor_x, channel_neighbor]\n",
    "                                        else:\n",
    "                                            diff =  image[neighbor_y, neighbor_x, channel_neighbor] - image[y, x, channel_node]\n",
    "                                        edge_weight = ((diff + 1) * (dist + 1) - 1) / ((L + 1) * (radius + 1) - 1)\n",
    "                                        if image[y, x, channel_node] < image[neighbor_y, neighbor_x, channel_neighbor]:\n",
    "                                            edge_index.append([node_mapping[node_id], node_mapping[neighbor_id]])\n",
    "                                            edge_attr.append(edge_weight)\n",
    "    \n",
    "    return np.array(valid_nodes), np.array(edge_index).T, np.array(edge_attr)\n",
    "\n",
    "def SSN_to_graph(image, radius, L=255):\n",
    "    valid_nodes, edge_index, edge_attr = build_graph(image, radius, L)\n",
    "\n",
    "    # Converte para tensores do PyTorch\n",
    "    x = torch.tensor(valid_nodes, dtype=torch.float).view(-1, 1)\n",
    "    edge_index = torch.tensor(edge_index, dtype=torch.long).contiguous()\n",
    "    edge_attr = torch.tensor(edge_attr, dtype=torch.float)\n",
    "\n",
    "    # Cria a estrutura de dados\n",
    "    data = Data(x=x, edge_index=edge_index, edge_attr=edge_attr)\n",
    "    \n",
    "    return data\n"
   ]
  },
  {
   "cell_type": "code",
   "execution_count": 48,
   "metadata": {},
   "outputs": [],
   "source": [
    "img = cv2.imread(\"/home/avell/Documents/mestrado/projeto/imagens/flavia_processed/Anhui Barberry/1552.png\")"
   ]
  },
  {
   "cell_type": "code",
   "execution_count": 49,
   "metadata": {},
   "outputs": [],
   "source": [
    "G =SSN_to_graph(image=img, radius= 4)"
   ]
  },
  {
   "cell_type": "code",
   "execution_count": 50,
   "metadata": {},
   "outputs": [
    {
     "data": {
      "text/plain": [
       "541101"
      ]
     },
     "execution_count": 50,
     "metadata": {},
     "output_type": "execute_result"
    }
   ],
   "source": [
    "len(G.edge_attr)"
   ]
  },
  {
   "cell_type": "code",
   "execution_count": 51,
   "metadata": {},
   "outputs": [
    {
     "ename": "SystemError",
     "evalue": "CPUDispatcher(<function build_graph at 0x763589f98280>) returned a result with an exception set",
     "output_type": "error",
     "traceback": [
      "\u001b[0;31m---------------------------------------------------------------------------\u001b[0m",
      "\u001b[0;31mKeyboardInterrupt\u001b[0m                         Traceback (most recent call last)",
      "File \u001b[0;32m~/.local/lib/python3.10/site-packages/numba/core/serialize.py:30\u001b[0m, in \u001b[0;36m_numba_unpickle\u001b[0;34m(address, bytedata, hashed)\u001b[0m\n\u001b[1;32m     27\u001b[0m _unpickled_memo \u001b[38;5;241m=\u001b[39m {}\n\u001b[0;32m---> 30\u001b[0m \u001b[38;5;28;01mdef\u001b[39;00m \u001b[38;5;21m_numba_unpickle\u001b[39m(address, bytedata, hashed):\n\u001b[1;32m     31\u001b[0m \u001b[38;5;250m    \u001b[39m\u001b[38;5;124;03m\"\"\"Used by `numba_unpickle` from _helperlib.c\u001b[39;00m\n\u001b[1;32m     32\u001b[0m \n\u001b[1;32m     33\u001b[0m \u001b[38;5;124;03m    Parameters\u001b[39;00m\n\u001b[0;32m   (...)\u001b[0m\n\u001b[1;32m     42\u001b[0m \u001b[38;5;124;03m        unpickled object\u001b[39;00m\n\u001b[1;32m     43\u001b[0m \u001b[38;5;124;03m    \"\"\"\u001b[39;00m\n",
      "\u001b[0;31mKeyboardInterrupt\u001b[0m: ",
      "\nThe above exception was the direct cause of the following exception:\n",
      "\u001b[0;31mSystemError\u001b[0m                               Traceback (most recent call last)",
      "\u001b[0;31mSystemError\u001b[0m: _PyEval_EvalFrameDefault returned a result with an exception set",
      "\nThe above exception was the direct cause of the following exception:\n",
      "\u001b[0;31mSystemError\u001b[0m                               Traceback (most recent call last)",
      "\u001b[0;31mSystemError\u001b[0m: _PyEval_EvalFrameDefault returned a result with an exception set",
      "\nThe above exception was the direct cause of the following exception:\n",
      "\u001b[0;31mSystemError\u001b[0m                               Traceback (most recent call last)",
      "Cell \u001b[0;32mIn[51], line 30\u001b[0m\n\u001b[1;32m     27\u001b[0m imagem \u001b[38;5;241m=\u001b[39m cv2\u001b[38;5;241m.\u001b[39mimread(caminho_imagem)\n\u001b[1;32m     29\u001b[0m \u001b[38;5;66;03m# Tornar a imagem quadrada e com fundo branco\u001b[39;00m\n\u001b[0;32m---> 30\u001b[0m grafo_data \u001b[38;5;241m=\u001b[39m \u001b[43mSSN_to_graph\u001b[49m\u001b[43m(\u001b[49m\u001b[43mimagem\u001b[49m\u001b[43m,\u001b[49m\u001b[43m \u001b[49m\u001b[43mradius\u001b[49m\u001b[38;5;241;43m=\u001b[39;49m\u001b[38;5;241;43m5\u001b[39;49m\u001b[43m)\u001b[49m\n\u001b[1;32m     32\u001b[0m \u001b[38;5;66;03m# Cria o diretório de destino para a classe atual, se ainda não existir\u001b[39;00m\n\u001b[1;32m     33\u001b[0m \u001b[38;5;28;01mif\u001b[39;00m \u001b[38;5;129;01mnot\u001b[39;00m os\u001b[38;5;241m.\u001b[39mpath\u001b[38;5;241m.\u001b[39mexists(diretorio_destino_classe):\n",
      "Cell \u001b[0;32mIn[47], line 57\u001b[0m, in \u001b[0;36mSSN_to_graph\u001b[0;34m(image, radius, L)\u001b[0m\n\u001b[1;32m     56\u001b[0m \u001b[38;5;28;01mdef\u001b[39;00m \u001b[38;5;21mSSN_to_graph\u001b[39m(image, radius, L\u001b[38;5;241m=\u001b[39m\u001b[38;5;241m255\u001b[39m):\n\u001b[0;32m---> 57\u001b[0m     valid_nodes, edge_index, edge_attr \u001b[38;5;241m=\u001b[39m \u001b[43mbuild_graph\u001b[49m\u001b[43m(\u001b[49m\u001b[43mimage\u001b[49m\u001b[43m,\u001b[49m\u001b[43m \u001b[49m\u001b[43mradius\u001b[49m\u001b[43m,\u001b[49m\u001b[43m \u001b[49m\u001b[43mL\u001b[49m\u001b[43m)\u001b[49m\n\u001b[1;32m     59\u001b[0m     \u001b[38;5;66;03m# Converte para tensores do PyTorch\u001b[39;00m\n\u001b[1;32m     60\u001b[0m     x \u001b[38;5;241m=\u001b[39m torch\u001b[38;5;241m.\u001b[39mtensor(valid_nodes, dtype\u001b[38;5;241m=\u001b[39mtorch\u001b[38;5;241m.\u001b[39mfloat)\u001b[38;5;241m.\u001b[39mview(\u001b[38;5;241m-\u001b[39m\u001b[38;5;241m1\u001b[39m, \u001b[38;5;241m1\u001b[39m)\n",
      "\u001b[0;31mSystemError\u001b[0m: CPUDispatcher(<function build_graph at 0x763589f98280>) returned a result with an exception set"
     ]
    }
   ],
   "source": [
    "# Diretório base contendo as classes\n",
    "base_dir = \"/home/avell/Documents/mestrado/projeto/imagens/flavia_processed\"\n",
    "\n",
    "# Diretório de destino para as imagens processadas\n",
    "diretorio_destino = \"/home/avell/Documents/mestrado/projeto/imagens/flavia_graph_processed\"\n",
    "\n",
    "# Lista de classes\n",
    "classes = os.listdir(base_dir)\n",
    "\n",
    "# Loop sobre as classes\n",
    "for classe in classes:\n",
    "    # Caminho para o diretório da classe atual\n",
    "    diretorio_classe = os.path.join(base_dir, classe)\n",
    "\n",
    "    # Caminho para o diretório de destino para a classe atual\n",
    "    diretorio_destino_classe = os.path.join(diretorio_destino, classe)\n",
    "\n",
    "    # Lista os arquivos no diretório da classe\n",
    "    arquivos = os.listdir(diretorio_classe)\n",
    "\n",
    "    # Loop sobre as imagens da classe\n",
    "    for arquivo in arquivos:\n",
    "        # Caminho completo para a imagem original\n",
    "        caminho_imagem = os.path.join(diretorio_classe, arquivo)\n",
    "\n",
    "        # Carrega a imagem\n",
    "        imagem = cv2.imread(caminho_imagem)\n",
    "\n",
    "        # Tornar a imagem quadrada e com fundo branco\n",
    "        grafo_data = SSN_to_graph(imagem, radius=5)\n",
    "\n",
    "        # Cria o diretório de destino para a classe atual, se ainda não existir\n",
    "        if not os.path.exists(diretorio_destino_classe):\n",
    "            os.makedirs(diretorio_destino_classe)\n",
    "\n",
    "        # Caminho completo para a imagem final de destino\n",
    "        caminho_grafo_final = os.path.join(diretorio_destino_classe, os.path.splitext(arquivo)[0] + '.pt')\n",
    "\n",
    "        # Salva o grafo final\n",
    "        torch.save(grafo_data, caminho_grafo_final)"
   ]
  },
  {
   "cell_type": "code",
   "execution_count": null,
   "metadata": {},
   "outputs": [],
   "source": []
  }
 ],
 "metadata": {
  "kernelspec": {
   "display_name": "Python 3",
   "language": "python",
   "name": "python3"
  },
  "language_info": {
   "codemirror_mode": {
    "name": "ipython",
    "version": 3
   },
   "file_extension": ".py",
   "mimetype": "text/x-python",
   "name": "python",
   "nbconvert_exporter": "python",
   "pygments_lexer": "ipython3",
   "version": "3.10.12"
  }
 },
 "nbformat": 4,
 "nbformat_minor": 2
}
