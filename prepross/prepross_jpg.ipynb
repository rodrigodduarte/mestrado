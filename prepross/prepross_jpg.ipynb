{
 "cells": [
  {
   "cell_type": "markdown",
   "metadata": {},
   "source": [
    "### Imports"
   ]
  },
  {
   "cell_type": "code",
   "execution_count": 4,
   "metadata": {},
   "outputs": [],
   "source": [
    "import cv2\n",
    "import numpy as np\n",
    "import matplotlib.pyplot as plt\n",
    "import os"
   ]
  },
  {
   "cell_type": "markdown",
   "metadata": {},
   "source": [
    "### Imagem quadrada e com fundo branco"
   ]
  },
  {
   "cell_type": "code",
   "execution_count": 7,
   "metadata": {},
   "outputs": [],
   "source": [
    "def preprocess_image(imagem):\n",
    "    # Converter a imagem para escala de cinza\n",
    "    gray_image = cv2.cvtColor(imagem, cv2.COLOR_BGR2GRAY)\n",
    "    \n",
    "    # Aplicar a limiarização de Otsu para obter uma imagem binarizada\n",
    "    _, imagem_binaria = cv2.threshold(gray_image, 0, 255, cv2.THRESH_BINARY + cv2.THRESH_OTSU)\n",
    "    \n",
    "    imagem_invertida = cv2.bitwise_not(imagem_binaria)\n",
    "    \n",
    "    # Encontrar os contornos na imagem binarizada\n",
    "    contornos, _ = cv2.findContours(imagem_invertida, cv2.RETR_EXTERNAL, cv2.CHAIN_APPROX_SIMPLE)\n",
    "    \n",
    "    # Encontrar o contorno com a área máxima\n",
    "    maior_contorno = max(contornos, key=cv2.contourArea)\n",
    "\n",
    "    # Obter os quatro pontos mais extremos do contorno\n",
    "    x, y, w, h = cv2.boundingRect(maior_contorno)\n",
    "\n",
    "    # Determinar o tamanho do lado do quadrado\n",
    "    tamanho_lado = max(w, h)\n",
    "\n",
    "    # Criar a imagem RGBA (com canal alfa)\n",
    "    rgba_imagem = cv2.merge([imagem, imagem_binaria])\n",
    "\n",
    "    # Definir o canal alfa para 0 (totalmente transparente) nas regiões da folha\n",
    "    rgba_imagem[imagem_binaria != 0, 0] = 255\n",
    "    rgba_imagem[imagem_binaria != 0, 1] = 255\n",
    "    rgba_imagem[imagem_binaria != 0, 2] = 255\n",
    "\n",
    "    imagem_retrato = rgba_imagem[y:y+h,x:x+w, :3]\n",
    "\n",
    "    # Calcular o preenchimento necessário para tornar a imagem quadrada\n",
    "    padding_horizontal = (tamanho_lado - w) // 2\n",
    "    padding_vertical = (tamanho_lado - h) // 2\n",
    "\n",
    "    # Aplicar o preenchimento à imagem\n",
    "    imagem_final = cv2.copyMakeBorder(imagem_retrato, padding_vertical, padding_vertical, padding_horizontal, padding_horizontal, cv2.BORDER_CONSTANT, value=(255, 255, 255))\n",
    "\n",
    "    # # Redimensionar a imagem para 256x256 e garantir que tenha 3 canais de cor\n",
    "    # imagem_final = cv2.resize(imagem_padded, (256, 256))\n",
    "\n",
    "    return imagem_final\n",
    "\n",
    "# # Ler a imagem\n",
    "# img = cv2.imread(\"/home/avell/Documents/mestrado/projeto/flavia_original/Japanese Flowering Cherry/3004.jpg\")\n",
    "\n",
    "# # Pré-processar a imagem\n",
    "# nimg = preprocess_image(img)\n",
    "\n",
    "# # Plotar a imagem processada\n",
    "# plt.imshow(cv2.cvtColor(nimg, cv2.COLOR_BGR2RGB))\n",
    "# plt.axis('off')  # Desativar os eixos\n",
    "# plt.show()"
   ]
  },
  {
   "cell_type": "markdown",
   "metadata": {},
   "source": [
    "### Processar todas as imagens e salvar num novo diretorio"
   ]
  },
  {
   "cell_type": "code",
   "execution_count": 8,
   "metadata": {},
   "outputs": [],
   "source": [
    "# Diretório base contendo as classes\n",
    "base_dir = \"/home/rodrigoduarte/Documentos/projeto/imagens/flavia_original\"\n",
    "\n",
    "# Diretório de destino para as imagens processadas\n",
    "diretorio_destino = \"/home/rodrigoduarte/Documentos/projeto/imagens/flavia_processed\"\n",
    "\n",
    "# Lista de classes\n",
    "classes = os.listdir(base_dir)\n",
    "\n",
    "# Loop sobre as classes\n",
    "for classe in classes:\n",
    "    # Caminho para o diretório da classe atual\n",
    "    diretorio_classe = os.path.join(base_dir, classe)\n",
    "\n",
    "    # Caminho para o diretório de destino para a classe atual\n",
    "    diretorio_destino_classe = os.path.join(diretorio_destino, classe)\n",
    "\n",
    "    # Lista os arquivos no diretório da classe\n",
    "    arquivos = os.listdir(diretorio_classe)\n",
    "\n",
    "    # Loop sobre as imagens da classe\n",
    "    for arquivo in arquivos:\n",
    "        # Caminho completo para a imagem original\n",
    "        caminho_imagem = os.path.join(diretorio_classe, arquivo)\n",
    "\n",
    "        # Carrega a imagem\n",
    "        imagem = cv2.imread(caminho_imagem)\n",
    "\n",
    "        # Tornar a imagem quadrada e com fundo branco\n",
    "        imagem_processada = preprocess_image(imagem)\n",
    "\n",
    "        # Cria o diretório de destino para a classe atual, se ainda não existir\n",
    "        if not os.path.exists(diretorio_destino_classe):\n",
    "            os.makedirs(diretorio_destino_classe)\n",
    "\n",
    "        # Caminho completo para a imagem final de destino\n",
    "        caminho_imagem_final = os.path.join(diretorio_destino_classe, os.path.splitext(arquivo)[0] + '.png')\n",
    "\n",
    "        # Salva a imagem final\n",
    "        cv2.imwrite(caminho_imagem_final, cv2.cvtColor(imagem_processada, cv2.COLOR_RGB2BGR), [cv2.IMWRITE_PNG_COMPRESSION, 0])"
   ]
  },
  {
   "cell_type": "code",
   "execution_count": null,
   "metadata": {},
   "outputs": [],
   "source": []
  }
 ],
 "metadata": {
  "kernelspec": {
   "display_name": "mestrado",
   "language": "python",
   "name": "python3"
  },
  "language_info": {
   "codemirror_mode": {
    "name": "ipython",
    "version": 3
   },
   "file_extension": ".py",
   "mimetype": "text/x-python",
   "name": "python",
   "nbconvert_exporter": "python",
   "pygments_lexer": "ipython3",
   "version": "3.12.5"
  }
 },
 "nbformat": 4,
 "nbformat_minor": 2
}
