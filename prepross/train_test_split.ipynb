{
 "cells": [
  {
   "cell_type": "code",
   "execution_count": 1,
   "metadata": {},
   "outputs": [],
   "source": [
    "import os\n",
    "import shutil\n",
    "from sklearn.model_selection import train_test_split\n",
    "\n",
    "# Caminho para o diretório contendo suas classes com imagens\n",
    "caminho_diretorio_original = '/home/rodrigoduarte/Documentos/projeto/imagens/flavia_processed'\n",
    "caminho_diretorio_novo = '/home/rodrigoduarte/Documentos/projeto/imagens/flavia'\n",
    "\n",
    "# Lista de todas as classes no diretório original\n",
    "classes = os.listdir(caminho_diretorio_original) \n",
    "\n",
    "# Criar diretórios de treino e teste no novo diretório\n",
    "os.makedirs(os.path.join(caminho_diretorio_novo, 'train'), exist_ok=True)\n",
    "os.makedirs(os.path.join(caminho_diretorio_novo, 'test'), exist_ok=True)\n",
    "\n",
    "# Para cada classe, dividir as imagens em conjuntos de treino e teste\n",
    "for classe in classes:\n",
    "    caminho_classe_original = os.path.join(caminho_diretorio_original, classe)\n",
    "    \n",
    "    # Lista de todas as imagens na classe\n",
    "    imagens = os.listdir(caminho_classe_original)\n",
    "    \n",
    "    # Dividir as imagens em conjuntos de treino e teste (80% treino, 20% teste)\n",
    "    treino, teste = train_test_split(imagens, test_size=0.2, random_state=42)\n",
    "    \n",
    "    # Criar diretórios de treino e teste para a classe no novo diretório\n",
    "    diretorio_treino_novo = os.path.join(caminho_diretorio_novo, 'train', classe)\n",
    "    diretorio_teste_novo = os.path.join(caminho_diretorio_novo, 'test', classe)\n",
    "    \n",
    "    os.makedirs(diretorio_treino_novo, exist_ok=True)\n",
    "    os.makedirs(diretorio_teste_novo, exist_ok=True)\n",
    "    \n",
    "    # Mover as imagens para os diretórios correspondentes no novo diretório\n",
    "    for imagem in treino:\n",
    "        shutil.copy(os.path.join(caminho_classe_original, imagem), os.path.join(diretorio_treino_novo, imagem))\n",
    "    \n",
    "    for imagem in teste:\n",
    "        shutil.copy(os.path.join(caminho_classe_original, imagem), os.path.join(diretorio_teste_novo, imagem))\n"
   ]
  },
  {
   "cell_type": "code",
   "execution_count": null,
   "metadata": {},
   "outputs": [],
   "source": []
  }
 ],
 "metadata": {
  "kernelspec": {
   "display_name": "mestrado",
   "language": "python",
   "name": "python3"
  },
  "language_info": {
   "codemirror_mode": {
    "name": "ipython",
    "version": 3
   },
   "file_extension": ".py",
   "mimetype": "text/x-python",
   "name": "python",
   "nbconvert_exporter": "python",
   "pygments_lexer": "ipython3",
   "version": "3.12.5"
  }
 },
 "nbformat": 4,
 "nbformat_minor": 2
}
