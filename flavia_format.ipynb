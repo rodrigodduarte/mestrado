{
 "cells": [
  {
   "cell_type": "code",
   "execution_count": 1,
   "metadata": {},
   "outputs": [],
   "source": [
    "import os\n",
    "import shutil\n",
    "\n",
    "# Caminho para o diretório contendo as imagens do Flavia dataset\n",
    "flavia_dir = '/home/rodrigoduarte/Documentos/projeto/imagens/Leaves_flavia'\n",
    "\n",
    "# Cria o diretório de destino para as classes\n",
    "dest_dir = '/home/rodrigoduarte/Documentos/projeto/imagens/flavia_original'\n",
    "os.makedirs(dest_dir, exist_ok=True)\n",
    "\n",
    "# Dicionário com os nomes comuns das plantas e seus respectivos arquivos\n",
    "common_names = {\n",
    "    \"pubescent bamboo\": [\"1001-1059\"],\n",
    "    \"Chinese horse chestnut\": [\"1060-1122\"],\n",
    "    \"Anhui Barberry\": [\"1552-1616\"],\n",
    "    \"Chinese redbud\": [\"1123-1194\"],\n",
    "    \"true indigo\": [\"1195-1267\"],\n",
    "    \"Japanese maple\": [\"1268-1323\"],\n",
    "    \"Nanmu\": [\"1324-1385\"],\n",
    "    \"castor aralia\": [\"1386-1437\"],\n",
    "    \"Chinese cinnamon\": [\"1497-1551\"],\n",
    "    \"goldenrain tree\": [\"1438-1496\"],\n",
    "    \"Big-fruited Holly\": [\"2001-2050\"],\n",
    "    \"Japanese cheesewood\": [\"2051-2113\"],\n",
    "    \"wintersweet\": [\"2114-2165\"],\n",
    "    \"camphortree\": [\"2166-2230\"],\n",
    "    \"Japan Arrowwood\": [\"2231-2290\"],\n",
    "    \"sweet osmanthus\": [\"2291-2346\"],\n",
    "    \"deodar\": [\"2347-2423\"],\n",
    "    \"ginkgo, maidenhair tree\": [\"2424-2485\"],\n",
    "    \"Crape myrtle, Crepe myrtle\": [\"2486-2546\"],\n",
    "    \"oleander\": [\"2547-2612\"],\n",
    "    \"yew plum pine\": [\"2616-2675\"],\n",
    "    \"Japanese Flowering Cherry\": [\"3001-3055\"],\n",
    "    \"Glossy Privet\": [\"3056-3110\"],\n",
    "    \"Chinese Toon\": [\"3111-3175\"],\n",
    "    \"peach\": [\"3176-3229\"],\n",
    "    \"Ford Woodlotus\": [\"3230-3281\"],\n",
    "    \"trident maple\": [\"3282-3334\"],\n",
    "    \"Beale's barberry\": [\"3335-3389\"],\n",
    "    \"southern magnolia\": [\"3390-3446\"],\n",
    "    \"Canadian poplar\": [\"3447-3510\"],\n",
    "    \"Chinese tulip tree\": [\"3511-3563\"],\n",
    "    \"tangerine\": [\"3566-3621\"]\n",
    "}\n",
    "\n",
    "# Para cada classe, copia os arquivos correspondentes para o diretório de destino\n",
    "for class_name, files in common_names.items():\n",
    "    class_dir = os.path.join(dest_dir, class_name)\n",
    "    os.makedirs(class_dir, exist_ok=True)\n",
    "    for file_range in files:\n",
    "        start, end = map(int, file_range.split('-'))\n",
    "        for i in range(start, end+1):\n",
    "            filename = f\"{i}.jpg\"\n",
    "            src_path = os.path.join(flavia_dir, filename)\n",
    "            if os.path.exists(src_path):\n",
    "                shutil.copy(src_path, class_dir)\n",
    "            else:\n",
    "                print(f\"Arquivo {filename} não encontrado.\")\n"
   ]
  },
  {
   "cell_type": "code",
   "execution_count": null,
   "metadata": {},
   "outputs": [],
   "source": []
  }
 ],
 "metadata": {
  "kernelspec": {
   "display_name": "mestrado",
   "language": "python",
   "name": "python3"
  },
  "language_info": {
   "codemirror_mode": {
    "name": "ipython",
    "version": 3
   },
   "file_extension": ".py",
   "mimetype": "text/x-python",
   "name": "python",
   "nbconvert_exporter": "python",
   "pygments_lexer": "ipython3",
   "version": "3.12.5"
  }
 },
 "nbformat": 4,
 "nbformat_minor": 2
}
